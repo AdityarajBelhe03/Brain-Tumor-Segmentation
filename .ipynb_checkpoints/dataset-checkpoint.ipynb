{
 "cells": [
  {
   "cell_type": "code",
   "execution_count": 1,
   "id": "5161e314",
   "metadata": {},
   "outputs": [],
   "source": [
    "import os\n",
    "import numpy as np\n",
    "import cv2\n",
    "from glob import glob\n",
    "from tqdm import tqdm\n",
    "from sklearn.model_selection import train_test_split\n",
    "from albumentations import HorizontalFlip, VerticalFlip,Rotate"
   ]
  },
  {
   "cell_type": "code",
   "execution_count": 2,
   "id": "2025e3c1",
   "metadata": {},
   "outputs": [],
   "source": [
    "\n",
    "def create_dir(path):\n",
    "    \"\"\" Create a directory. \"\"\"\n",
    "    if not os.path.exists(path):\n",
    "        os.makedirs(path)"
   ]
  },
  {
   "cell_type": "markdown",
   "id": "fdba2695",
   "metadata": {},
   "source": [
    "# benign mask and image extraction\n"
   ]
  },
  {
   "cell_type": "code",
   "execution_count": 3,
   "id": "88eca301",
   "metadata": {},
   "outputs": [],
   "source": [
    "path=\"C:\\\\Users\\\\upratham\\\\B Cancer\\\\data\\\\benign\\\\\""
   ]
  },
  {
   "cell_type": "code",
   "execution_count": 4,
   "id": "caff6e47",
   "metadata": {},
   "outputs": [],
   "source": [
    "c=1\n"
   ]
  },
  {
   "cell_type": "code",
   "execution_count": 5,
   "id": "74ff1645",
   "metadata": {},
   "outputs": [],
   "source": [
    "create_dir(\"dataset/benign/image/\")\n",
    "create_dir(\"dataset/benign/mask/\")"
   ]
  },
  {
   "cell_type": "code",
   "execution_count": 6,
   "id": "558e7cf7",
   "metadata": {},
   "outputs": [],
   "source": [
    " save_path1=\"dataset\\\\benign\\\\image\\\\\"+str(c)+'.png'"
   ]
  },
  {
   "cell_type": "code",
   "execution_count": 7,
   "id": "ff07b2e2",
   "metadata": {},
   "outputs": [
    {
     "data": {
      "text/plain": [
       "'dataset\\\\benign\\\\image\\\\1.png'"
      ]
     },
     "execution_count": 7,
     "metadata": {},
     "output_type": "execute_result"
    }
   ],
   "source": [
    "save_path1"
   ]
  },
  {
   "cell_type": "code",
   "execution_count": 8,
   "id": "a3747cdc",
   "metadata": {},
   "outputs": [],
   "source": [
    "while c<438:\n",
    "        save_path1=\"dataset\\\\benign\\\\image\\\\\"+str(c)+'.png'\n",
    "        save_path2=\"dataset\\\\benign\\\\mask\\\\\"+str(c)+'.png'\n",
    "        benign=path+'benign ('+str(c)+').png'\n",
    "        mask=path+'benign ('+str(c)+')_mask.png'\n",
    "        x = cv2.imread(benign, cv2.IMREAD_COLOR)\n",
    "        y = cv2.imread(mask, cv2.IMREAD_COLOR)\n",
    "        cv2.imwrite(save_path1, x)\n",
    "        cv2.imwrite(save_path2, y)\n",
    "        c+=1\n",
    "\n",
    "        \n",
    "    "
   ]
  },
  {
   "cell_type": "markdown",
   "id": "54a65d04",
   "metadata": {},
   "source": [
    "# benign mask and image extraction\n"
   ]
  },
  {
   "cell_type": "code",
   "execution_count": 9,
   "id": "95f4c9cc",
   "metadata": {},
   "outputs": [],
   "source": [
    "#C:\\Users\\upratham\\B Cancer\\data\\malignant"
   ]
  },
  {
   "cell_type": "code",
   "execution_count": 10,
   "id": "6dad2b15",
   "metadata": {},
   "outputs": [],
   "source": [
    "path=\"C:\\\\Users\\\\upratham\\\\B Cancer\\\\data\\\\malignant\\\\\"\n"
   ]
  },
  {
   "cell_type": "code",
   "execution_count": 11,
   "id": "290e0365",
   "metadata": {},
   "outputs": [],
   "source": [
    "c=1\n"
   ]
  },
  {
   "cell_type": "code",
   "execution_count": 12,
   "id": "68a664f5",
   "metadata": {},
   "outputs": [],
   "source": [
    "create_dir(\"dataset/malignant/image/\")\n",
    "create_dir(\"dataset/malignant/mask/\")"
   ]
  },
  {
   "cell_type": "code",
   "execution_count": 13,
   "id": "0aee54c8",
   "metadata": {},
   "outputs": [
    {
     "ename": "error",
     "evalue": "OpenCV(4.8.0) D:\\a\\opencv-python\\opencv-python\\opencv\\modules\\imgcodecs\\src\\loadsave.cpp:787: error: (-215:Assertion failed) !_img.empty() in function 'cv::imwrite'\n",
     "output_type": "error",
     "traceback": [
      "\u001b[1;31m---------------------------------------------------------------------------\u001b[0m",
      "\u001b[1;31merror\u001b[0m                                     Traceback (most recent call last)",
      "Cell \u001b[1;32mIn [13], line 8\u001b[0m\n\u001b[0;32m      6\u001b[0m x \u001b[38;5;241m=\u001b[39m cv2\u001b[38;5;241m.\u001b[39mimread(malignant, cv2\u001b[38;5;241m.\u001b[39mIMREAD_COLOR)\n\u001b[0;32m      7\u001b[0m y \u001b[38;5;241m=\u001b[39m cv2\u001b[38;5;241m.\u001b[39mimread(mask, cv2\u001b[38;5;241m.\u001b[39mIMREAD_COLOR)\n\u001b[1;32m----> 8\u001b[0m \u001b[43mcv2\u001b[49m\u001b[38;5;241;43m.\u001b[39;49m\u001b[43mimwrite\u001b[49m\u001b[43m(\u001b[49m\u001b[43msave_path1\u001b[49m\u001b[43m,\u001b[49m\u001b[43m \u001b[49m\u001b[43mx\u001b[49m\u001b[43m)\u001b[49m\n\u001b[0;32m      9\u001b[0m cv2\u001b[38;5;241m.\u001b[39mimwrite(save_path2, y)\n\u001b[0;32m     10\u001b[0m c\u001b[38;5;241m+\u001b[39m\u001b[38;5;241m=\u001b[39m\u001b[38;5;241m1\u001b[39m\n",
      "\u001b[1;31merror\u001b[0m: OpenCV(4.8.0) D:\\a\\opencv-python\\opencv-python\\opencv\\modules\\imgcodecs\\src\\loadsave.cpp:787: error: (-215:Assertion failed) !_img.empty() in function 'cv::imwrite'\n"
     ]
    }
   ],
   "source": [
    "while c<=410:\n",
    "        save_path1=\"dataset\\\\malignant\\\\image\\\\\"+str(c)+'.png'\n",
    "        save_path2=\"dataset\\\\malignant\\\\mask\\\\\"+str(c)+'.png'\n",
    "        malignant=path+'malignant ('+str(c)+').png'\n",
    "        mask=path+'malignant ('+str(c)+')_mask.png'\n",
    "        x = cv2.imread(malignant, cv2.IMREAD_COLOR)\n",
    "        y = cv2.imread(mask, cv2.IMREAD_COLOR)\n",
    "        cv2.imwrite(save_path1, x)\n",
    "        cv2.imwrite(save_path2, y)\n",
    "        c+=1\n",
    "\n",
    "        \n",
    "    "
   ]
  },
  {
   "cell_type": "code",
   "execution_count": 15,
   "id": "0a99bdcd",
   "metadata": {},
   "outputs": [
    {
     "data": {
      "text/plain": [
       "'C:\\\\Users\\\\upratham\\\\B Cancer\\\\data\\\\malignant\\\\malignant (211).png'"
      ]
     },
     "execution_count": 15,
     "metadata": {},
     "output_type": "execute_result"
    }
   ],
   "source": [
    "malignant"
   ]
  },
  {
   "cell_type": "code",
   "execution_count": 16,
   "id": "bc923cfa",
   "metadata": {},
   "outputs": [],
   "source": [
    "path=\"C:\\\\Users\\\\upratham\\\\B Cancer\\\\data\\\\normal\\\\\"\n",
    "c=1\n",
    "create_dir(\"dataset/normal/image/\")\n",
    "create_dir(\"dataset/normal/mask/\")"
   ]
  },
  {
   "cell_type": "code",
   "execution_count": 17,
   "id": "a7a39857",
   "metadata": {},
   "outputs": [],
   "source": [
    "while c<=99:\n",
    "        save_path1=\"dataset\\\\normal\\\\image\\\\\"+str(c)+'.png'\n",
    "        save_path2=\"dataset\\\\normal\\\\mask\\\\\"+str(c)+'.png'\n",
    "        malignant=path+'normal ('+str(c)+').png'\n",
    "        mask=path+'normal ('+str(c)+')_mask.png'\n",
    "        x = cv2.imread(malignant, cv2.IMREAD_COLOR)\n",
    "        y = cv2.imread(mask, cv2.IMREAD_COLOR)\n",
    "        cv2.imwrite(save_path1, x)\n",
    "        cv2.imwrite(save_path2, y)\n",
    "        c+=1\n",
    "\n",
    "        "
   ]
  },
  {
   "cell_type": "code",
   "execution_count": 2,
   "id": "3396e8a7",
   "metadata": {},
   "outputs": [
    {
     "name": "stderr",
     "output_type": "stream",
     "text": [
      "Copying files: 6128 files [00:04, 1372.97 files/s]\n"
     ]
    }
   ],
   "source": [
    "import splitfolders\n",
    "\n",
    "# Split with a ratio.\n",
    "# To only split into training and validation set, set a tuple to `ratio`, i.e, `(.8, .2)`.\n",
    "splitfolders.ratio(r\"data\", output=\"splited\",\n",
    "    seed=1337, ratio=(.85,0.0, .15), group_prefix=None, move=False) # default values"
   ]
  },
  {
   "cell_type": "code",
   "execution_count": null,
   "id": "b8b7c38c",
   "metadata": {},
   "outputs": [],
   "source": []
  }
 ],
 "metadata": {
  "kernelspec": {
   "display_name": "Python 3 (ipykernel)",
   "language": "python",
   "name": "python3"
  },
  "language_info": {
   "codemirror_mode": {
    "name": "ipython",
    "version": 3
   },
   "file_extension": ".py",
   "mimetype": "text/x-python",
   "name": "python",
   "nbconvert_exporter": "python",
   "pygments_lexer": "ipython3",
   "version": "3.9.15"
  }
 },
 "nbformat": 4,
 "nbformat_minor": 5
}
