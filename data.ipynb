{
 "cells": [
  {
   "cell_type": "code",
   "execution_count": 10,
   "id": "5161e314",
   "metadata": {},
   "outputs": [],
   "source": [
    "import os\n",
    "import numpy as np\n",
    "import cv2\n",
    "from glob import glob\n",
    "from tqdm import tqdm\n",
    "from sklearn.model_selection import train_test_split\n",
    "from albumentations import HorizontalFlip, VerticalFlip,Rotate"
   ]
  },
  {
   "cell_type": "code",
   "execution_count": 11,
   "id": "2025e3c1",
   "metadata": {},
   "outputs": [],
   "source": [
    "\n",
    "def create_dir(path):\n",
    "    \"\"\" Create a directory. \"\"\"\n",
    "    if not os.path.exists(path):\n",
    "        os.makedirs(path)"
   ]
  },
  {
   "cell_type": "code",
   "execution_count": 12,
   "id": "b1a09698",
   "metadata": {},
   "outputs": [],
   "source": [
    "\n",
    "\n",
    "def load_data(path, split=0.15):\n",
    "    \"\"\" Load the images and masks \"\"\"\n",
    "    images = sorted(glob(f\"{path}/images/*.png\"))\n",
    "    masks = sorted(glob(f\"{path}/masks/*.png\"))\n",
    "\n",
    "    \"\"\" Split the data \"\"\"\n",
    "    split_size = int(len(images) * split)\n",
    "    train_x, valid_x = train_test_split(images, test_size=split_size, random_state=42)\n",
    "    train_y, valid_y = train_test_split(masks, test_size=split_size, random_state=42)\n",
    "\n",
    "    return (train_x, train_y), (valid_x, valid_y)"
   ]
  },
  {
   "cell_type": "code",
   "execution_count": 13,
   "id": "dd5f8339",
   "metadata": {},
   "outputs": [],
   "source": [
    "\n",
    "\n",
    "\n",
    "def augment_data(images, masks, save_path, augment=True):\n",
    "    \"\"\" Performing data augmentation. \"\"\"\n",
    "    H = 128\n",
    "    W = 128\n",
    "\n",
    "    for idx, (x, y) in tqdm(enumerate(zip(images, masks)), total=len(images)):\n",
    "        \"\"\" Extracting the dir name and image name \"\"\"\n",
    "        #dir_name = x.split(\"\\\\\")[-1]\n",
    "        name = x.split(\"\\\\\")[-1].split(\".\")[0]\n",
    "      \n",
    "\n",
    "        \"\"\" Read the image and mask \"\"\"\n",
    "        x = cv2.imread(x, cv2.IMREAD_COLOR)\n",
    "        y = cv2.imread(y, cv2.IMREAD_COLOR)\n",
    "\n",
    "        if augment == True:\n",
    "            aug = HorizontalFlip(p=1)\n",
    "            augmented = aug(image=x, mask=y)\n",
    "            x1 = augmented[\"image\"]\n",
    "            y1 = augmented[\"mask\"]\n",
    "\n",
    "            aug = VerticalFlip(p=1)\n",
    "            augmented = aug(image=x, mask=y)\n",
    "            x2 = augmented['image']\n",
    "            y2 = augmented['mask']\n",
    "\n",
    "            aug = Rotate(limit=45, p=1)\n",
    "            augmented = aug(image=x, mask=y)\n",
    "            x3 = augmented[\"image\"]\n",
    "            y3 = augmented[\"mask\"]\n",
    "\n",
    "            X = [x, x1, x2,x3]\n",
    "            Y = [y, y1, y2,y3]\n",
    "\n",
    "        else:\n",
    "            X = [x]\n",
    "            Y = [y]\n",
    "        \n",
    "\n",
    "        idx = 0\n",
    "        for i, m in zip(X, Y):\n",
    "            i = cv2.resize(i, (W, H))\n",
    "            m = cv2.resize(m, (W, H))\n",
    "            m = m/255.0\n",
    "            m = (m > 0.5) * 255\n",
    "\n",
    "            if len(X) == 1:\n",
    "                tmp_image_name = f\"{name}.jpg\"\n",
    "                tmp_mask_name  = f\"{name}.jpg\"\n",
    "            else:\n",
    "                tmp_image_name = f\"{name}_{idx}.jpg\"\n",
    "                tmp_mask_name  = f\"{name}_{idx}.jpg\"\n",
    "\n",
    "            image_path = os.path.join(save_path, \"image/\", tmp_image_name)\n",
    "            mask_path  = os.path.join(save_path, \"mask/\", tmp_mask_name)\n",
    "    \n",
    "\n",
    "            cv2.imwrite(image_path, i)\n",
    "            cv2.imwrite(mask_path, m)\n",
    "\n",
    "\n",
    "            idx += 1\n"
   ]
  },
  {
   "cell_type": "code",
   "execution_count": null,
   "id": "05320ba3",
   "metadata": {},
   "outputs": [],
   "source": []
  },
  {
   "cell_type": "code",
   "execution_count": 14,
   "id": "5ee106f2",
   "metadata": {},
   "outputs": [
    {
     "data": {
      "text/plain": [
       "'test'"
      ]
     },
     "execution_count": 14,
     "metadata": {},
     "output_type": "execute_result"
    }
   ],
   "source": [
    "\"\"\" Load the dataset \"\"\"\n",
    "dataset_path = os.path.join(\"train\")\n",
    "dataset_path"
   ]
  },
  {
   "cell_type": "code",
   "execution_count": 15,
   "id": "52c65960",
   "metadata": {},
   "outputs": [],
   "source": [
    "(train_x, train_y), (valid_x, valid_y) = load_data(dataset_path, split=0.01)"
   ]
  },
  {
   "cell_type": "code",
   "execution_count": 16,
   "id": "ab4e43b1",
   "metadata": {},
   "outputs": [
    {
     "name": "stdout",
     "output_type": "stream",
     "text": [
      "Train:  456\n",
      "Valid:  4\n"
     ]
    }
   ],
   "source": [
    "\n",
    "\n",
    "    print(\"Train: \", len(train_x))\n",
    "    print(\"Valid: \", len(valid_x))\n"
   ]
  },
  {
   "cell_type": "raw",
   "id": "8c32deaa",
   "metadata": {},
   "source": []
  },
  {
   "cell_type": "code",
   "execution_count": 17,
   "id": "7750c870",
   "metadata": {},
   "outputs": [],
   "source": [
    "\n",
    "    create_dir(\"new_data/train/image/\")\n",
    "    create_dir(\"new_data/train/mask/\")\n",
    "    create_dir(\"new_data/valid/image/\")\n",
    "    create_dir(\"new_data/valid/mask/\")\n"
   ]
  },
  {
   "cell_type": "code",
   "execution_count": 18,
   "id": "e1df04e4",
   "metadata": {},
   "outputs": [
    {
     "name": "stderr",
     "output_type": "stream",
     "text": [
      "100%|███████████████████████████████████████████████████████████████████████████████| 456/456 [00:02<00:00, 205.01it/s]\n",
      "100%|███████████████████████████████████████████████████████████████████████████████████| 4/4 [00:00<00:00, 181.71it/s]\n"
     ]
    }
   ],
   "source": [
    "    augment_data(train_x, train_y, \"new_data/train/\", augment=False)\n",
    "    augment_data(valid_x, valid_y, \"new_data/valid/\", augment=False)"
   ]
  },
  {
   "cell_type": "code",
   "execution_count": null,
   "id": "6dad2b15",
   "metadata": {},
   "outputs": [],
   "source": [
    "\n",
    "\n"
   ]
  }
 ],
 "metadata": {
  "kernelspec": {
   "display_name": "Python 3 (ipykernel)",
   "language": "python",
   "name": "python3"
  },
  "language_info": {
   "codemirror_mode": {
    "name": "ipython",
    "version": 3
   },
   "file_extension": ".py",
   "mimetype": "text/x-python",
   "name": "python",
   "nbconvert_exporter": "python",
   "pygments_lexer": "ipython3",
   "version": "3.9.15"
  }
 },
 "nbformat": 4,
 "nbformat_minor": 5
}
